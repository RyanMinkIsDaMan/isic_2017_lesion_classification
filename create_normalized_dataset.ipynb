{
 "cells": [
  {
   "cell_type": "markdown",
   "metadata": {},
   "source": [
    "# Create Normalized Dataset Using Color Constancy"
   ]
  },
  {
   "cell_type": "markdown",
   "metadata": {},
   "source": [
    "Import libraries"
   ]
  },
  {
   "cell_type": "code",
   "execution_count": null,
   "metadata": {},
   "outputs": [],
   "source": [
    "from __future__ import division\n",
    "from fastai.vision import Path\n",
    "import os\n",
    "import numpy\n",
    "import cv2"
   ]
  },
  {
   "cell_type": "markdown",
   "metadata": {},
   "source": [
    "Initialize path to original dataset"
   ]
  },
  {
   "cell_type": "code",
   "execution_count": null,
   "metadata": {},
   "outputs": [],
   "source": [
    "data_path = Path('data')"
   ]
  },
  {
   "cell_type": "markdown",
   "metadata": {},
   "source": [
    "Specify directory names of the modified dataset"
   ]
  },
  {
   "cell_type": "code",
   "execution_count": null,
   "metadata": {},
   "outputs": [],
   "source": [
    "new_data_directory = 'xxx_data'\n",
    "data_splits = ['train', 'valid', 'test']\n",
    "data_classes = ['melanoma', 'nevus', 'seborrheic_keratosis']"
   ]
  },
  {
   "cell_type": "markdown",
   "metadata": {},
   "source": [
    "Create a function to normalize the colors of original images using a color constancy algorithm called Shades of Gray as discussed in the paper titled [Improving Dermoscopy Image Classification Using Color Constancy](http://vislab.isr.ist.utl.pt/wp-content/uploads/2016/02/15_JBHI_2.pdf) with the implementation by [Nick Shawn](https://github.com/nickshawn/Shades_of_Gray-color_constancy_transformation)."
   ]
  },
  {
   "cell_type": "code",
   "execution_count": null,
   "metadata": {},
   "outputs": [],
   "source": [
    "def color_constancy(img, power=6, gamma=None):\n",
    "    \"\"\"\n",
    "    Parameters\n",
    "    ----------\n",
    "    img: 2D numpy array\n",
    "        The original image with format of (h, w, c)\n",
    "    power: int\n",
    "        The degree of norm, 6 is used in reference paper\n",
    "    gamma: float\n",
    "        The value of gamma correction, 2.2 is used in reference paper\n",
    "    \"\"\"\n",
    "    img_dtype = img.dtype\n",
    "    \n",
    "    if gamma is not None:\n",
    "        img = img.astype('uint8')\n",
    "        look_up_table = numpy.ones((256,1), dtype='uint8') * 0\n",
    "        for i in range(256):\n",
    "            look_up_table[i][0] = 255*pow(i/255, 1/gamma)\n",
    "        img = cv2.LUT(img, look_up_table)\n",
    "\n",
    "    img = img.astype('float32')\n",
    "    img_power = numpy.power(img, power)\n",
    "    rgb_vec = numpy.power(numpy.mean(img_power, (0,1)), 1/power)\n",
    "    rgb_norm = numpy.sqrt(numpy.sum(numpy.power(rgb_vec, 2.0)))\n",
    "    rgb_vec = rgb_vec/rgb_norm\n",
    "    rgb_vec = 1/(rgb_vec*numpy.sqrt(3))\n",
    "    img = numpy.multiply(img, rgb_vec)\n",
    "    \n",
    "    return img.astype(img_dtype)"
   ]
  },
  {
   "cell_type": "markdown",
   "metadata": {},
   "source": [
    "Create a function to generate new data by applying the aforementioned algorithm"
   ]
  },
  {
   "cell_type": "code",
   "execution_count": null,
   "metadata": {},
   "outputs": [],
   "source": [
    "def generate_new_data(power, gamma):\n",
    "    for data_split in data_splits:\n",
    "\n",
    "        data_split_path = new_data_directory + \"/\" + data_split\n",
    "        if not os.path.isdir(data_split_path):\n",
    "            print(\"creating \", data_split_path)\n",
    "            os.mkdir(data_split_path)\n",
    "\n",
    "        for data_class in data_classes:\n",
    "            data_class_path = new_data_directory + \"/\" + data_split + \"/\" + data_class\n",
    "            if not os.path.isdir(data_class_path):\n",
    "                print(\"creating \", data_class_path)\n",
    "                os.mkdir(data_class_path)\n",
    "\n",
    "            image_file_paths = (data_path/data_split/data_class).ls()\n",
    "\n",
    "            for image_file_path in image_file_paths:\n",
    "                final_image_file_path = new_data_directory + \"/\" + \"/\".join(str(image_file_path).split(\"/\")[1:])\n",
    "                image = cv2.imread(str(image_file_path))\n",
    "                final_image = color_constancy(image, power=power, gamma=gamma)\n",
    "                cv2.imwrite(final_image_file_path, final_image)"
   ]
  },
  {
   "cell_type": "markdown",
   "metadata": {},
   "source": [
    "Generate new data"
   ]
  },
  {
   "cell_type": "code",
   "execution_count": null,
   "metadata": {},
   "outputs": [],
   "source": [
    "generate_new_data(6, 2.2)"
   ]
  }
 ],
 "metadata": {
  "kernelspec": {
   "display_name": "Python 3",
   "language": "python",
   "name": "python3"
  },
  "language_info": {
   "codemirror_mode": {
    "name": "ipython",
    "version": 3
   },
   "file_extension": ".py",
   "mimetype": "text/x-python",
   "name": "python",
   "nbconvert_exporter": "python",
   "pygments_lexer": "ipython3",
   "version": "3.7.1"
  }
 },
 "nbformat": 4,
 "nbformat_minor": 2
}
